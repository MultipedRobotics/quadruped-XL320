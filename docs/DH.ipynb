{
 "cells": [
  {
   "cell_type": "markdown",
   "metadata": {},
   "source": [
    "# Quadruped Forward/Inverse Kinematics\n",
    "---\n",
    "Kevin Walchko\n",
    "Created: 24 Oct 2016"
   ]
  },
  {
   "cell_type": "markdown",
   "metadata": {},
   "source": [
    "# Denavit-Hartenberg (DH)\n",
    "\n",
    "Development of the DH forward kinematics for a quadruped robot. We will use the DH method to develop the symbolic equations and use python to simplify them.\n",
    "\n",
    "![](https://github.com/walchko/pyGeckoRobots/blob/master/quadruped/robotis/docs/spider.png?raw=true)\n",
    "\n"
   ]
  },
  {
   "cell_type": "code",
   "execution_count": 260,
   "metadata": {},
   "outputs": [
    {
     "data": {
      "application/json": {
       "Software versions": [
        {
         "module": "Python",
         "version": "2.7.14 64bit [GCC 4.2.1 Compatible Apple LLVM 9.0.0 (clang-900.0.37)]"
        },
        {
         "module": "IPython",
         "version": "5.5.0"
        },
        {
         "module": "OS",
         "version": "Darwin 17.3.0 x86_64 i386 64bit"
        },
        {
         "module": "numpy",
         "version": "1.13.3"
        },
        {
         "module": "matplotlib",
         "version": "2.1.0"
        }
       ]
      },
      "text/html": [
       "<table><tr><th>Software</th><th>Version</th></tr><tr><td>Python</td><td>2.7.14 64bit [GCC 4.2.1 Compatible Apple LLVM 9.0.0 (clang-900.0.37)]</td></tr><tr><td>IPython</td><td>5.5.0</td></tr><tr><td>OS</td><td>Darwin 17.3.0 x86_64 i386 64bit</td></tr><tr><td>numpy</td><td>1.13.3</td></tr><tr><td>matplotlib</td><td>2.1.0</td></tr><tr><td colspan='2'>Sun Feb 11 00:35:36 2018 MST</td></tr></table>"
      ],
      "text/latex": [
       "\\begin{tabular}{|l|l|}\\hline\n",
       "{\\bf Software} & {\\bf Version} \\\\ \\hline\\hline\n",
       "Python & 2.7.14 64bit [GCC 4.2.1 Compatible Apple LLVM 9.0.0 (clang-900.0.37)] \\\\ \\hline\n",
       "IPython & 5.5.0 \\\\ \\hline\n",
       "OS & Darwin 17.3.0 x86\\_64 i386 64bit \\\\ \\hline\n",
       "numpy & 1.13.3 \\\\ \\hline\n",
       "matplotlib & 2.1.0 \\\\ \\hline\n",
       "\\hline \\multicolumn{2}{|l|}{Sun Feb 11 00:35:36 2018 MST} \\\\ \\hline\n",
       "\\end{tabular}\n"
      ],
      "text/plain": [
       "Software versions\n",
       "Python 2.7.14 64bit [GCC 4.2.1 Compatible Apple LLVM 9.0.0 (clang-900.0.37)]\n",
       "IPython 5.5.0\n",
       "OS Darwin 17.3.0 x86_64 i386 64bit\n",
       "numpy 1.13.3\n",
       "matplotlib 2.1.0\n",
       "Sun Feb 11 00:35:36 2018 MST"
      ]
     },
     "execution_count": 260,
     "metadata": {},
     "output_type": "execute_result"
    }
   ],
   "source": [
    "%matplotlib inline\n",
    "%reload_ext version_information\n",
    "%version_information numpy, matplotlib"
   ]
  },
  {
   "cell_type": "code",
   "execution_count": 173,
   "metadata": {},
   "outputs": [],
   "source": [
    "from __future__ import print_function\n",
    "from __future__ import division\n",
    "from matplotlib import pyplot as plt\n",
    "import numpy as np\n",
    "from sympy import symbols, sin, cos, pi, simplify\n",
    "from math import radians as d2r\n",
    "from math import degrees as r2d\n",
    "from math import atan2, sqrt, acos, fabs"
   ]
  },
  {
   "cell_type": "code",
   "execution_count": 174,
   "metadata": {},
   "outputs": [],
   "source": [
    "t1, t2, t3 = symbols('t1 t2 t3')\n",
    "Lc, Lf, Lt = symbols('Lc Lf Lt')"
   ]
  },
  {
   "cell_type": "markdown",
   "metadata": {},
   "source": [
    "The following class follows the traditional [DH convention](https://en.wikipedia.org/wiki/Denavit%E2%80%93Hartenberg_parameters). Where:\n",
    "\n",
    "| Parameter | Definition|\n",
    "|-----------|-----------|\n",
    "| $\\alpha_i$   | angle about common normal, from old z axis to new z axis (twist)|\n",
    "| $d_i$        | offset along previous z to the common normal |\n",
    "| $\\theta_i$   | angle about previous z, from old x to new x |\n",
    "| $a_i$        | length of the common normal. Assuming a revolute joint, this is the radius about previous z. |"
   ]
  },
  {
   "cell_type": "code",
   "execution_count": 175,
   "metadata": {},
   "outputs": [],
   "source": [
    "class DH(object):\n",
    "    def __init__(self):\n",
    "        pass\n",
    "\n",
    "    def fk(self, params):\n",
    "        t = np.eye(4)\n",
    "        for p in params:\n",
    "            t = t.dot(self.makeT(*p))\n",
    "        return t\n",
    "\n",
    "    def makeT(self, a, alpha, d, theta):\n",
    "        # create a modified DH homogenious matrix\n",
    "        # this is the same matrix as above\n",
    "        return np.array([\n",
    "            [           cos(theta),           -sin(theta),           0,             a],\n",
    "            [sin(theta)*cos(alpha), cos(theta)*cos(alpha), -sin(alpha), -d*sin(alpha)],\n",
    "            [sin(theta)*sin(alpha), cos(theta)*sin(alpha),  cos(alpha),  d*cos(alpha)],\n",
    "            [                    0,                     0,           0,             1]\n",
    "        ])\n",
    "    @staticmethod\n",
    "    def eom(f, inputs):\n",
    "        h = []\n",
    "        for i in range(0, 3):\n",
    "            tmp = (f[i,3]).subs(inputs)\n",
    "            h.append(simplify(tmp.evalf()))\n",
    "        return h"
   ]
  },
  {
   "cell_type": "code",
   "execution_count": 176,
   "metadata": {},
   "outputs": [],
   "source": [
    "# def eval(f, inputs):\n",
    "#     h = []\n",
    "#     for i in range(0, 3):\n",
    "#         tmp = (f[i,3]).subs(inputs)\n",
    "#         h.append(tmp.evalf())\n",
    "#     return h"
   ]
  },
  {
   "cell_type": "markdown",
   "metadata": {},
   "source": [
    "The parameters are:\n",
    "\n",
    "| i |$a_i$        | $\\alpha_i$   | $d_i$   | $theta_i$  |\n",
    "|---|-------------|--------------|---------|------------|\n",
    "| 1 | $L_{coxa}$  | 0            | 0       | $\\theta_1$ |\n",
    "| 2 | 0           | 90           | 0       | $\\theta_2$ |\n",
    "| 3 | $L_{femur}$ | 0            | 0       | $\\theta_3$ |\n",
    "| 4 | $L_{tibia}$ | 0            | 0       |            |\n"
   ]
  },
  {
   "cell_type": "code",
   "execution_count": 269,
   "metadata": {
    "scrolled": true
   },
   "outputs": [],
   "source": [
    "# a, alpha, d, theta\n",
    "# params = [\n",
    "#     [Lc,    0, 0, t1],\n",
    "#     [ 0, pi/2, 0, t2],\n",
    "#     [Lf,    0, 0, t3],\n",
    "#     [Lt,    0, 0,  0]\n",
    "# ]\n",
    "params = [\n",
    "    [ 0,    0, 0, t1],\n",
    "    [Lc, pi/2, 0, t2],\n",
    "    [Lf,    0, 0, t3],\n",
    "    [Lt,    0, 0,  0]\n",
    "]\n",
    "dh = DH()\n",
    "t = dh.fk(params)\n",
    "t = dh.eom(t,[])"
   ]
  },
  {
   "cell_type": "code",
   "execution_count": 270,
   "metadata": {},
   "outputs": [
    {
     "name": "stdout",
     "output_type": "stream",
     "text": [
      "1.0*(Lc + Lf*cos(t2) + Lt*cos(t2 + t3))*cos(t1)\n",
      "1.0*(Lc + Lf*cos(t2) + Lt*cos(t2 + t3))*sin(t1)\n",
      "1.0*Lf*sin(t2) + 1.0*Lt*sin(t2 + t3)\n"
     ]
    }
   ],
   "source": [
    "for i in t:\n",
    "    print(i)"
   ]
  },
  {
   "cell_type": "code",
   "execution_count": 278,
   "metadata": {},
   "outputs": [],
   "source": [
    "import math\n",
    "def fk(t1, t2, t3, Lc, Lf, Lt):\n",
    "    t1 = d2r(t1)\n",
    "    t2 = d2r(t2)\n",
    "    t3 = d2r(t3)\n",
    "#     return np.array([\n",
    "#         Lc + Lf*math.cos(t1)*math.cos(t2) + Lt*math.cos(t1)*math.cos(t2 + t3),\n",
    "#         (Lf*math.cos(t2) + Lt*math.cos(t2 + t3))*math.sin(t1),\n",
    "#         Lf*math.sin(t2) + Lt*math.sin(t2 + t3)\n",
    "#     ])\n",
    "    return np.array([\n",
    "        (Lc + Lf*math.cos(t2) + Lt*math.cos(t2 + t3))*math.cos(t1),\n",
    "        (Lc + Lf*math.cos(t2) + Lt*math.cos(t2 + t3))*math.sin(t1),\n",
    "        Lf*math.sin(t2) + Lt*math.sin(t2 + t3)\n",
    "    ])"
   ]
  },
  {
   "cell_type": "code",
   "execution_count": 279,
   "metadata": {},
   "outputs": [
    {
     "name": "stdout",
     "output_type": "stream",
     "text": [
      "[ 6.  0.  0.]\n",
      "[ 1.  0.  5.]\n",
      "[ 3.  0. -3.]\n",
      "[  3.67394040e-16   6.00000000e+00   0.00000000e+00]\n",
      "[  3.67394040e-16  -6.00000000e+00   0.00000000e+00]\n",
      "[  6.12323400e-17   1.00000000e+00   5.00000000e+00]\n",
      "[  2.34423551e-16   3.82842712e+00   0.00000000e+00]\n",
      "[  1.47827946e-16   2.41421356e+00   3.41421356e+00]\n"
     ]
    }
   ],
   "source": [
    "print(fk(0,0,0, 1,2,3))\n",
    "print(fk(0,90,0, 1,2,3))\n",
    "print(fk(0,0,-90, 1,2,3))\n",
    "print(fk(90,0,0, 1,2,3))\n",
    "print(fk(-90,0,0, 1,2,3))\n",
    "print(fk(90,90,0, 1,2,3))\n",
    "print(fk(90,45,-90, 1,2,2))\n",
    "print(fk(90,45,45, 1,2,2))"
   ]
  },
  {
   "cell_type": "markdown",
   "metadata": {},
   "source": [
    "# Inverse Kinematics\n",
    "\n",
    "Often, we need to find the angles of the leg joints given a location (x,y,z) of the foot. To calculate this, remember the leg is composed of 3 revolute joints. The shoulder is in one plane and both the femur joint and tibia joint are in another plane.\n",
    "\n",
    "**insert picture here**\n",
    "\n",
    "## Useful Trigonometry\n",
    "\n",
    "![](https://upload.wikimedia.org/wikipedia/commons/thumb/4/49/Triangle_with_notations_2.svg/200px-Triangle_with_notations_2.svg.png)\n",
    "\n",
    "The **law of cosines** for calculating one side of a triangle when the angle\n",
    "opposite and the other two sides are known. Can be used in conjunction with\n",
    "the law of sines to find all sides and angles.\n",
    "\n",
    "## Derivation\n",
    "\n",
    "So let's start with the shoulder, look down from the top, we see the x-y plane. We can calculate the it's rotation $\\theta_1$ by using x and y of the foot location.\n",
    "\n",
    "$$\\theta_1 = atan2(y,x)$$\n",
    "\n",
    "Next, let's look at the plane which the next 2 joints lie in. Now we will calculate the $\\theta_2$ and $\\theta_3$ angles.\n",
    "\n",
    "$$ m = \\sqrt{x^2 + y^2} $$\n",
    "\n",
    "$$ f = m - L_{coxa} $$\n",
    "\n",
    "$$ \\beta_1 = atan2(f,z) $$\n",
    "\n",
    "$$ d = \\sqrt{f^2 + z^2} $$\n",
    "\n",
    "$$ \\beta_2 = \\arccos( \\frac{L_{femur}^2+d^2-L_{tibia}^2}{2 d L_{femur}} ) $$\n",
    "\n",
    "$$ \\theta_2 = \\beta_1 + \\beta_2 $$\n",
    "\n",
    "$$\\theta_3 = \\arccos( \\frac{L_{femur}^2+L_{tibia}^2-d^2}{2 L_{femur} L_{tibia}} ) $$\n",
    "\n",
    "Now finally, you should notice the definition is different between forward and reverse kinematics. So let's fix that ...\n",
    "\n",
    "\n",
    "$$ \\theta_{2fk} = \\theta_{2ik} - \\pi $$\n",
    "$$ \\theta_{3fk} = \\theta_{3ik} - \\pi/2 $$\n"
   ]
  },
  {
   "cell_type": "code",
   "execution_count": 307,
   "metadata": {},
   "outputs": [],
   "source": [
    "def ik(x, y, z, Lc, Lf, Lt):\n",
    "    t1 = atan2(y, x)\n",
    "    f = sqrt(x**2 + y**2) - Lc\n",
    "    \n",
    "    # depending on z, you have to do a different atan\n",
    "    if z < 0.0:\n",
    "        b1 = atan2(f, fabs(z))\n",
    "    else:\n",
    "        b1 = atan2(z, f)\n",
    "    d = sqrt(f**2 + z**2)  \n",
    "    b2 = acos((Lf**2 + d**2 - Lt**2) / (2.0 * Lf * d))\n",
    "    t2 = b1 + b2\n",
    "    t3 = acos((Lf**2 + Lt**2 - d**2) / (2.0 * Lf * Lt))\n",
    "\n",
    "    t3 -= pi  # fix to align fk and ik frames\n",
    "    if z < 0.0:\n",
    "        t3 -= pi/2\n",
    "\n",
    "    return [r2d(t1), r2d(t2),r2d(t3)]\n",
    "\n",
    "import math\n",
    "\n",
    "def cl(a,b,c):\n",
    "    return acos((c**2-(a**2+b**2))/(-2*a*b))\n",
    "\n",
    "def ik2(x, y, z, L1, L2, L3):\n",
    "    t1 = atan2(y, x)\n",
    "    m = sqrt((x)**2 + y**2)-L1\n",
    "    e = atan2(z,m)\n",
    "    print('e',e)\n",
    "    r = sqrt(m**2+z**2)\n",
    "    aa = cl(L2,r,L3)\n",
    "    t2 = aa+e\n",
    "    gg = cl(L2,L3,r)\n",
    "    t3 = (math.pi + gg)\n",
    "    \n",
    "#     print('alt', r2d(-aa+e), r2d(-(math.pi + gg)))\n",
    "\n",
    "    return [r2d(t1), r2d(t2),r2d(t3)]"
   ]
  },
  {
   "cell_type": "code",
   "execution_count": 313,
   "metadata": {},
   "outputs": [
    {
     "name": "stdout",
     "output_type": "stream",
     "text": [
      "pts: 50.000 0.000 -10.000\n",
      "e -0.244978663127\n",
      "angles: 0.0 0.0 270.0\n"
     ]
    }
   ],
   "source": [
    "pts = fk(0.0,0.,270., 10, 40, 10)\n",
    "print('pts: {:.3f} {:.3f} {:.3f}'.format(*pts))\n",
    "\n",
    "angles = ik2(pts[0], pts[1], pts[2], 10, 40, 10)\n",
    "print('angles: {:.1f} {:.1f} {:.1f}'.format(*angles))"
   ]
  },
  {
   "cell_type": "code",
   "execution_count": 295,
   "metadata": {},
   "outputs": [
    {
     "name": "stdout",
     "output_type": "stream",
     "text": [
      "fuck: math domain error\n",
      "[-37.01457039  37.01457039  13.97755493]\n",
      "-45 -45 200\n"
     ]
    }
   ],
   "source": [
    "sa = []\n",
    "sb = []\n",
    "sc = []\n",
    "try:\n",
    "    for a in range(-45,45,5):\n",
    "        for b in range(-45,45,5):\n",
    "            for c in range(200,360,5):\n",
    "                pts = fk(a,b,c, 10, 40, 100)\n",
    "                angles = ik2(pts[0], pts[1], pts[2], 10, 40, 100)\n",
    "                sa.append((a-angles[0]))\n",
    "                sb.append((b-angles[1]))\n",
    "                sc.append((c-angles[2]))\n",
    "#                 if (a-angles[0]) > 10:\n",
    "#                     print(a,b,c)\n",
    "except Exception as e:\n",
    "    print('fuck:', e)\n",
    "    print(pts)\n",
    "    print(a,b,c)"
   ]
  },
  {
   "cell_type": "code",
   "execution_count": 294,
   "metadata": {},
   "outputs": [
    {
     "data": {
      "image/png": "[encoded data removed]",
      "text/plain": [
       "<matplotlib.figure.Figure at 0x1143a9cd0>"
      ]
     },
     "metadata": {},
     "output_type": "display_data"
    }
   ],
   "source": [
    "plt.subplot(3,1,1)\n",
    "plt.plot(sa,'r-')\n",
    "plt.ylabel('Error a')\n",
    "plt.grid(True);\n",
    "plt.subplot(3,1,2)\n",
    "plt.plot(sb,'g-')\n",
    "plt.ylabel('Error b')\n",
    "plt.grid(True);\n",
    "plt.subplot(3,1,3)\n",
    "plt.plot(sc,'b-')\n",
    "plt.ylabel('Error c')\n",
    "plt.grid(True);"
   ]
  },
  {
   "cell_type": "code",
   "execution_count": 242,
   "metadata": {},
   "outputs": [
    {
     "data": {
      "image/png": "[encoded data removed]",
      "text/plain": [
       "<matplotlib.figure.Figure at 0x113a93d90>"
      ]
     },
     "metadata": {},
     "output_type": "display_data"
    }
   ],
   "source": [
    "plt.plot(sa,'r-')\n",
    "plt.ylabel('Error a')\n",
    "plt.grid(True);"
   ]
  },
  {
   "cell_type": "code",
   "execution_count": 240,
   "metadata": {},
   "outputs": [
    {
     "data": {
      "text/plain": [
       "Text(0,0.5,u'Error b')"
      ]
     },
     "execution_count": 240,
     "metadata": {},
     "output_type": "execute_result"
    },
    {
     "data": {
      "image/png": "[encoded data removed]",
      "text/plain": [
       "<matplotlib.figure.Figure at 0x1141dd5d0>"
      ]
     },
     "metadata": {},
     "output_type": "display_data"
    }
   ],
   "source": [
    "plt.plot(sb,'g-')\n",
    "plt.ylabel('Error b')"
   ]
  },
  {
   "cell_type": "code",
   "execution_count": 241,
   "metadata": {
    "scrolled": true
   },
   "outputs": [
    {
     "data": {
      "image/png": "[encoded data removed]",
      "text/plain": [
       "<matplotlib.figure.Figure at 0x1141176d0>"
      ]
     },
     "metadata": {},
     "output_type": "display_data"
    }
   ],
   "source": [
    "plt.plot(sc,'b-')\n",
    "plt.ylabel('Error c')\n",
    "plt.grid(True);"
   ]
  },
  {
   "cell_type": "markdown",
   "metadata": {
    "scrolled": true
   },
   "source": [
    "## Loading"
   ]
  },
  {
   "cell_type": "code",
   "execution_count": 142,
   "metadata": {},
   "outputs": [
    {
     "name": "stdout",
     "output_type": "stream",
     "text": [
      "Foot location 160.711 0 -70.711\n",
      "This can lift 10.055 N\n",
      "This can lift 1025.016 gram force\n",
      "The robot is: 560 gram force\n",
      "Factor of safety: 1.83\n"
     ]
    }
   ],
   "source": [
    "def calcTorque(foot, Lc, Lf, Lt):\n",
    "    \"\"\"\n",
    "    s     s\n",
    "    +-----+--------+ CM\n",
    "    |              |\n",
    "    |              v\n",
    "    |\n",
    "        torque balance:  s + s = r W/3\n",
    "    the servos are at location s, the center mass is at CM, the weight is W\n",
    "    and r is the distance from the foot to CM. The shoulder servo works perpendicular\n",
    "    to this plane and doesn't help to lift.\n",
    "    \"\"\"\n",
    "    # servo = 0.15  # TG9e servo torque in Nm\n",
    "    servo = 0.39  # XL-320 servo torque in Nm\n",
    "\n",
    "    x = 0.001*sqrt(foot[0]**2 + foot[1]**2)  # convert to mm\n",
    "    r = .144/2 + x\n",
    "\n",
    "    # 2*servo = r F\n",
    "    F = 2.0*servo/r  # 2 servos per leg lifting\n",
    "    return 3.0*F  # 3 legs are lifting at all times\n",
    "\n",
    "Lc = 40\n",
    "Lf = 50\n",
    "Lt = 100\n",
    "robot_weight = 560\n",
    "foot = fk(0,0,-45, Lc, Lf, Lt)\n",
    "print('Foot location {:.3f} {} {:.3f}'.format(*foot))\n",
    "N = calcTorque(foot, Lc, Lf, Lt)\n",
    "print('This can lift {:.3f} N'.format(N))\n",
    "\n",
    "# why the fuck do people confuse mass and weight!!! weight is N and mass is kg\n",
    "# the the stupid scale I used was in grams for weight ... idiots!!!\n",
    "G = 1000*N/9.81\n",
    "print('This can lift {:.3f} gram force'.format(G))  # convert N to grams force\n",
    "print('The robot is: {} gram force'.format(robot_weight))\n",
    "print('Factor of safety: {:.2f}'.format(G/robot_weight))"
   ]
  },
  {
   "cell_type": "code",
   "execution_count": 138,
   "metadata": {},
   "outputs": [
    {
     "data": {
      "text/plain": [
       "<matplotlib.contour.QuadContourSet at 0x10b3239d0>"
      ]
     },
     "execution_count": 138,
     "metadata": {},
     "output_type": "execute_result"
    },
    {
     "data": {
      "image/png": "[encoded data removed]",
      "text/plain": [
       "<matplotlib.figure.Figure at 0x10b4bffd0>"
      ]
     },
     "metadata": {},
     "output_type": "display_data"
    }
   ],
   "source": [
    "from mpl_toolkits.mplot3d import Axes3D\n",
    "from matplotlib import cm\n",
    "from matplotlib.ticker import LinearLocator, FormatStrFormatter\n",
    "import matplotlib.pyplot as plt\n",
    "import numpy as np\n",
    "\n",
    "# fig = plt.figure()\n",
    "# ax = fig.gca(projection='3d')\n",
    "x = np.arange(0, 45, 1.0)\n",
    "y = np.arange(-135, -90, 1.0)\n",
    "# X, Y = np.meshgrid(X, Y)\n",
    "# x = range(0, 25)\n",
    "# y = range(-115, -90)\n",
    "Z = []\n",
    "for femur in x:\n",
    "    z=[]\n",
    "    for tibia in y:\n",
    "#         print('{} {}'.format(femur, tibia))\n",
    "        pos = ik(0, femur, tibia, Lc, Lf, Lt)\n",
    "        N = calcTorque(pos, Lc, Lf, Lt)\n",
    "        G = 1000*N/9.81\n",
    "        z.append(G/robot_weight)\n",
    "    Z.append(z)\n",
    "\n",
    "X, Y = np.meshgrid(x, y)\n",
    "# ax.plot_surface(X, Y, Z, rstride=1, cstride=1, cmap=cm.coolwarm,\n",
    "#                        linewidth=0, antialiased=False)\n",
    "# ax.plot_surface(X, Y, Z);\n",
    "plt.figure()\n",
    "plt.contour(X,Y,Z)"
   ]
  },
  {
   "cell_type": "code",
   "execution_count": null,
   "metadata": {
    "collapsed": true
   },
   "outputs": [],
   "source": [
    "import matplotlib.pyplot as plt\n",
    "\n",
    "plt.subplot(2,2,1);\n",
    "plt.plot(px)\n",
    "plt.ylabel('x')\n",
    "\n",
    "plt.subplot(2,2,2)\n",
    "plt.plot(py)\n",
    "plt.ylabel('y')\n",
    "\n",
    "plt.subplot(2,2,3);\n",
    "plt.plot(pz)\n",
    "plt.ylabel('z')\n",
    "\n",
    "plt.subplot(2,2,4);\n",
    "plt.plot(px,py)\n",
    "plt.ylabel('y')\n",
    "plt.xlabel('x');"
   ]
  },
  {
   "cell_type": "code",
   "execution_count": null,
   "metadata": {},
   "outputs": [],
   "source": []
  },
  {
   "cell_type": "code",
   "execution_count": 88,
   "metadata": {},
   "outputs": [
    {
     "data": {
      "text/plain": [
       "-0.6435011087932844"
      ]
     },
     "execution_count": 88,
     "metadata": {},
     "output_type": "execute_result"
    }
   ],
   "source": [
    "atan2(-3,4)"
   ]
  },
  {
   "cell_type": "markdown",
   "metadata": {},
   "source": [
    "\n",
    "-----------\n",
    "\n",
    "<a rel=\"license\" href=\"http://creativecommons.org/licenses/by-sa/4.0/\"><img alt=\"Creative Commons License\" style=\"border-width:0\" src=\"https://i.creativecommons.org/l/by-sa/4.0/88x31.png\" /></a><br />This work is licensed under a <a rel=\"license\" href=\"http://creativecommons.org/licenses/by-sa/4.0/\">Creative Commons Attribution-ShareAlike 4.0 International License</a>."
   ]
  }
 ],
 "metadata": {
  "kernelspec": {
   "display_name": "Python 2",
   "language": "python",
   "name": "python2"
  },
  "language_info": {
   "codemirror_mode": {
    "name": "ipython",
    "version": 2
   },
   "file_extension": ".py",
   "mimetype": "text/x-python",
   "name": "python",
   "nbconvert_exporter": "python",
   "pygments_lexer": "ipython2",
   "version": "2.7.14"
  }
 },
 "nbformat": 4,
 "nbformat_minor": 1
}
